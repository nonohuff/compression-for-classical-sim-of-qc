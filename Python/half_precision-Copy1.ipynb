{
 "cells": [
  {
   "cell_type": "code",
   "execution_count": 1,
   "id": "e4dc2e2f",
   "metadata": {},
   "outputs": [],
   "source": [
    "%matplotlib inline\n",
    "import numpy as np\n",
    "import matplotlib.pyplot as plt\n",
    "import datetime\n",
    "import tensorflow as tf\n",
    "import qutip as qt\n",
    "from qutip_qip.operations import gate_sequence_product\n",
    "from qutip_qip.circuit import CircuitSimulator\n",
    "from time import process_time\n",
    "\n",
    "#necessary to avoid a Tensorflow issue on my PC\n",
    "import os\n",
    "os.environ['KMP_DUPLICATE_LIB_OK']='True'"
   ]
  },
  {
   "cell_type": "code",
   "execution_count": 2,
   "id": "70de21f7",
   "metadata": {},
   "outputs": [
    {
     "name": "stdout",
     "output_type": "stream",
     "text": [
      "3.7.13 (default, Mar 28 2022, 08:03:21) [MSC v.1916 64 bit (AMD64)]\n",
      "Tensorflow version: 2.9.1\n",
      "Num GPUs Available:  0\n"
     ]
    }
   ],
   "source": [
    "import sys\n",
    "print (sys.version)\n",
    "# 3.6.4 |Anaconda custom (64-bit)| (default, Jan 16 2018, 10:22:32) [MSC v.1900 64 bit (AMD64)]\n",
    "import tensorflow as tf\n",
    "print(\"Tensorflow version: \"+tf.__version__)\n",
    "\n",
    "print(\"Num GPUs Available: \", len(tf.config.list_physical_devices('GPU')))"
   ]
  },
  {
   "cell_type": "code",
   "execution_count": 184,
   "id": "bf9abbe2",
   "metadata": {},
   "outputs": [
    {
     "name": "stdout",
     "output_type": "stream",
     "text": [
      "0.9999544380342449\n",
      "Elapsed time during the whole program in seconds: 35.53125\n"
     ]
    }
   ],
   "source": [
    "import matplotlib.pyplot as plt\n",
    "import numpy as np\n",
    "from qutip import basis, fidelity\n",
    "from qutip_qip.device import LinearSpinChain\n",
    "from qutip_qip.algorithms import qft_gate_sequence\n",
    "\n",
    "# Start the stopwatch / counter\n",
    "t1_start = process_time()\n",
    "# Set the Number of Qubits\n",
    "num_qubits = 10\n",
    "# Initial State\n",
    "int_state = basis([2]*num_qubits, [0]*num_qubits)\n",
    "# The QFT circuit\n",
    "qc = qft_gate_sequence(num_qubits, swapping=False, to_cnot=True)\n",
    "# Gate-level simulation\n",
    "state1 = qc.run(int_state)\n",
    "# Pulse-level simulation\n",
    "processor = LinearSpinChain(num_qubits)\n",
    "processor.load_circuit(qc)\n",
    "state2 = processor.run_state(int_state).states[-1]\n",
    "print(fidelity(state1, state2))\n",
    "\n",
    "# Stop the stopwatch / counter\n",
    "t1_stop = process_time()\n",
    "print(\"Elapsed time during the whole program in seconds:\", t1_stop-t1_start) "
   ]
  },
  {
   "cell_type": "code",
   "execution_count": 114,
   "id": "0a24eab2",
   "metadata": {},
   "outputs": [
    {
     "data": {
      "text/plain": [
       "65"
      ]
     },
     "execution_count": 114,
     "metadata": {},
     "output_type": "execute_result"
    }
   ],
   "source": [
    "gates = qc.propagators()\n",
    "len(gates)"
   ]
  },
  {
   "cell_type": "code",
   "execution_count": 115,
   "id": "62d6f7c3",
   "metadata": {},
   "outputs": [
    {
     "data": {
      "text/plain": [
       "<tf.Tensor: shape=(4,), dtype=float32, numpy=array([1., 0., 0., 0.], dtype=float32)>"
      ]
     },
     "execution_count": 115,
     "metadata": {},
     "output_type": "execute_result"
    }
   ],
   "source": [
    "tf.cast([1,0,0,0],dtype=tf.float32)"
   ]
  },
  {
   "cell_type": "code",
   "execution_count": 164,
   "id": "7e5f7a19",
   "metadata": {},
   "outputs": [
    {
     "name": "stdout",
     "output_type": "stream",
     "text": [
      "0.9997582622860992\n",
      "Elapsed time during the whole program in seconds: 0.0\n"
     ]
    }
   ],
   "source": [
    "def gate_apply(gate,state_vector,data_type=tf.float32):\n",
    "    real_gate = tf.cast(np.real(gate.full()),dtype=data_type)\n",
    "    imag_gate = tf.cast(np.imag(gate.full()),dtype=data_type)\n",
    "    \n",
    "    real_state = tf.cast(np.real(state_vector.full()),dtype=data_type)\n",
    "    imag_state = tf.cast(np.imag(state_vector.full()),dtype=data_type)\n",
    "    \n",
    "    real_final_state = tf.tensordot(real_gate,real_state,axes=1)-tf.tensordot(imag_gate,imag_state,axes=1)\n",
    "    imag_final_state = tf.tensordot(imag_gate,real_state,axes=1)+tf.tensordot(real_gate,imag_state,axes=1)\n",
    "    \n",
    "    final_state = qt.Qobj(real_final_state.numpy()+1j*imag_final_state.numpy(),dims=state_vector.dims)\n",
    "    \n",
    "    return final_state\n",
    "\n",
    "# Start the stopwatch / counter\n",
    "t2_start = process_time()\n",
    "\n",
    "state3 = gate_apply(gate_sequence_product(gates),int_state,tf.float16)\n",
    "print(fidelity(state3,state1))\n",
    "\n",
    "# Stop the stopwatch / counter\n",
    "t2_stop = process_time()\n",
    "print(\"Elapsed time during the whole program in seconds:\", t2_stop-t2_start) "
   ]
  },
  {
   "cell_type": "code",
   "execution_count": 147,
   "id": "df3e6754",
   "metadata": {},
   "outputs": [
    {
     "name": "stdout",
     "output_type": "stream",
     "text": [
      "Fidelity for percision complex128 is 1.0000000232594535\n",
      "Fidelity for percision float64 is 1.0000000232594535\n",
      "Fidelity for percision float32 is 0.9999999732445152\n",
      "Fidelity for percision float16 is 0.9997582622860992\n",
      "Fidelity for percision bfloat16 is 0.9983844955257044\n"
     ]
    }
   ],
   "source": [
    "results = np.empty(4)\n",
    "for precision in [tf.complex128,tf.float64,tf.float32,tf.float16,tf.bfloat16]:\n",
    "    precision_string = str(precision)[str(precision).find(' ')+2:-2]\n",
    "    final_state = gate_apply(gate_sequence_product(gates),int_state,precision)\n",
    "    print(\"Fidelity for percision \"+precision_string+\" is \"+str(fidelity(final_state,state1)))"
   ]
  },
  {
   "cell_type": "code",
   "execution_count": 167,
   "id": "725e7535",
   "metadata": {},
   "outputs": [],
   "source": [
    "#set up baseline using QuTIP native simulation\n",
    "sim = CircuitSimulator(qc, state=int_state)\n",
    "state_vector = int_state\n",
    "vector_list_baseline = []\n",
    "vector_list_baseline.append(state_vector)\n",
    "for i in range(len(gates)):\n",
    "    state_vector = sim.step()\n",
    "    vector_list_baseline.append(state_vector)\n",
    "qt.qsave(vector_list_baseline, 'vector_list_baseline_num_qbits_'+str(num_qubits))"
   ]
  },
  {
   "cell_type": "code",
   "execution_count": 134,
   "id": "d0793816",
   "metadata": {},
   "outputs": [],
   "source": [
    "#set up baseline w/ highest percision\n",
    "#precision_baseline = tf.complex128\n",
    "#state_vector = int_state\n",
    "#vector_list_baseline = []\n",
    "#vector_list_baseline.append(state_vector)\n",
    "#for index,gate in enumerate(gates):\n",
    "#    state_vector = gate_apply(gate,state_vector,data_type=precision)\n",
    "#    vector_list_baseline.append(state_vector)\n",
    "# need to edit the filename if the precision changes\n",
    "#qt.qsave(vector_list_baseline, 'vector_list_baseline_num_qbits_'+str(num_qubits)+'_precision_'+str(precision_baseline)[str(precision_baseline).find('complex'):-2])"
   ]
  },
  {
   "cell_type": "code",
   "execution_count": 168,
   "id": "535db9e2",
   "metadata": {},
   "outputs": [],
   "source": [
    "#set up test w/ different percision\n",
    "precisions_to_test = [tf.complex128,tf.complex64,tf.float64,tf.float32,tf.float16,tf.bfloat16]\n",
    "for precision in precisions_to_test:\n",
    "    vector_list = []\n",
    "    state_vector = int_state\n",
    "    vector_list.append(state_vector)\n",
    "    for gate in gates:\n",
    "        state_vector = gate_apply(gate,state_vector,data_type=precision)\n",
    "        vector_list.append(state_vector)\n",
    "    filename = 'vector_list_num_qbits_'+str(num_qubits)+'_precision_'+str(precision)[str(precision).find(' ')+2:-2]\n",
    "    qt.qsave(vector_list,filename)"
   ]
  },
  {
   "cell_type": "code",
   "execution_count": 183,
   "id": "0a26c2ec",
   "metadata": {},
   "outputs": [
    {
     "data": {
      "image/png": "[encoded data removed]",
      "text/plain": [
       "<Figure size 640x480 with 1 Axes>"
      ]
     },
     "metadata": {},
     "output_type": "display_data"
    }
   ],
   "source": [
    "vector_list_baseline = qt.qload('vector_list_baseline_num_qbits_'+str(num_qubits))\n",
    "fig = plt.figure()\n",
    "for precision in precisions_to_test:\n",
    "    loadname = 'vector_list_num_qbits_'+str(num_qubits)+'_precision_'+str(precision)[str(precision).find(' ')+2:-2]\n",
    "    savename = 'fidelity_list_num_qbits_'+str(num_qubits)+'_precision_'+str(precision)[str(precision).find(' ')+2:-2]\n",
    "    precision_string = str(precision)[str(precision).find(' ')+2:-2]\n",
    "    vector_list = qt.qload(loadname)\n",
    "    fidelity_list = []\n",
    "    for i in range(len(vector_list)):\n",
    "        fidelity_list.append(fidelity(vector_list[i],vector_list_baseline[i]))\n",
    "    qt.qsave(fidelity_list,savename)   \n",
    "    plt.plot(fidelity_list,label=precision_string)\n",
    "plt.title('Effects of Precision on QFT for '+str(num_qubits)+' qubits')\n",
    "plt.xlabel('Gates')\n",
    "plt.ylabel('Fidelity')\n",
    "plt.legend()\n",
    "fig.savefig('Effects of Precision on QFT for '+str(num_qubits)+' qubits'+'.jpg')"
   ]
  },
  {
   "cell_type": "code",
   "execution_count": 148,
   "id": "df121658",
   "metadata": {},
   "outputs": [
    {
     "data": {
      "text/plain": [
       "0.9242982691318912"
      ]
     },
     "execution_count": 148,
     "metadata": {},
     "output_type": "execute_result"
    }
   ],
   "source": [
    "bfloat16_state_vectors = qt.qload('vector_list_num_qbits_'+str(num_qubits)+'_precision_'+str(tf.bfloat16)[str(tf.bfloat16).find(' ')+2:-2])\n",
    "fidelity(bfloat16_state_vectors[-1],state1)\n",
    "fidelity(state1,vector_list_baseline[-1])"
   ]
  },
  {
   "cell_type": "code",
   "execution_count": 160,
   "id": "47613ac8",
   "metadata": {},
   "outputs": [
    {
     "data": {
      "text/latex": [
       "Quantum object: dims = [[2, 2, 2, 2, 2], [1, 1, 1, 1, 1]], shape = (32, 1), type = ket\\begin{equation*}\\left(\\begin{array}{*{11}c}(0.653-0.271j)\\\\0.0\\\\0.0\\\\0.0\\\\0.0\\\\\\vdots\\\\0.0\\\\0.0\\\\0.0\\\\0.0\\\\0.0\\\\\\end{array}\\right)\\end{equation*}"
      ],
      "text/plain": [
       "Quantum object: dims = [[2, 2, 2, 2, 2], [1, 1, 1, 1, 1]], shape = (32, 1), type = ket\n",
       "Qobj data =\n",
       "[[0.65328148-0.27059805j]\n",
       " [0.        +0.j        ]\n",
       " [0.        +0.j        ]\n",
       " [0.        +0.j        ]\n",
       " [0.        +0.j        ]\n",
       " [0.        +0.j        ]\n",
       " [0.        +0.j        ]\n",
       " [0.        +0.j        ]\n",
       " [0.        +0.j        ]\n",
       " [0.        +0.j        ]\n",
       " [0.        +0.j        ]\n",
       " [0.        +0.j        ]\n",
       " [0.        +0.j        ]\n",
       " [0.        +0.j        ]\n",
       " [0.        +0.j        ]\n",
       " [0.        +0.j        ]\n",
       " [0.65328148+0.27059805j]\n",
       " [0.        +0.j        ]\n",
       " [0.        +0.j        ]\n",
       " [0.        +0.j        ]\n",
       " [0.        +0.j        ]\n",
       " [0.        +0.j        ]\n",
       " [0.        +0.j        ]\n",
       " [0.        +0.j        ]\n",
       " [0.        +0.j        ]\n",
       " [0.        +0.j        ]\n",
       " [0.        +0.j        ]\n",
       " [0.        +0.j        ]\n",
       " [0.        +0.j        ]\n",
       " [0.        +0.j        ]\n",
       " [0.        +0.j        ]\n",
       " [0.        +0.j        ]]"
      ]
     },
     "execution_count": 160,
     "metadata": {},
     "output_type": "execute_result"
    }
   ],
   "source": [
    "from qutip_qip.circuit import CircuitSimulator\n",
    "\n",
    "sim = CircuitSimulator(qc, state=int_state)\n",
    "\n",
    "sim.step()\n",
    "sim.step()"
   ]
  },
  {
   "cell_type": "code",
   "execution_count": 161,
   "id": "039c76ca",
   "metadata": {},
   "outputs": [
    {
     "data": {
      "text/plain": [
       "0.9998931902221827"
      ]
     },
     "execution_count": 161,
     "metadata": {},
     "output_type": "execute_result"
    }
   ],
   "source": [
    "sim = CircuitSimulator(qc, state=int_state)\n",
    "fidelity(sim.step(),bfloat16_state_vectors[1])"
   ]
  },
  {
   "cell_type": "code",
   "execution_count": 176,
   "id": "80954442",
   "metadata": {},
   "outputs": [
    {
     "name": "stdout",
     "output_type": "stream",
     "text": [
      "1.0000000232594535\n",
      "0.9998791578857809\n",
      "2.3259453474366865e-08\n",
      "0.00012084211421914404\n"
     ]
    }
   ],
   "source": [
    "print(fidelity(vector_list_baseline[-1],state1))\n",
    "print(fidelity(vector_list_baseline[-1],state3))\n",
    "print(np.abs(1-fidelity(vector_list_baseline[-1],state1)))\n",
    "print(np.abs(1-fidelity(vector_list_baseline[-1],state3)))"
   ]
  },
  {
   "cell_type": "code",
   "execution_count": null,
   "id": "e2122b58",
   "metadata": {},
   "outputs": [],
   "source": []
  }
 ],
 "metadata": {
  "kernelspec": {
   "display_name": "Python 3 (ipykernel)",
   "language": "python",
   "name": "python3"
  },
  "language_info": {
   "codemirror_mode": {
    "name": "ipython",
    "version": 3
   },
   "file_extension": ".py",
   "mimetype": "text/x-python",
   "name": "python",
   "nbconvert_exporter": "python",
   "pygments_lexer": "ipython3",
   "version": "3.7.13"
  }
 },
 "nbformat": 4,
 "nbformat_minor": 5
}
